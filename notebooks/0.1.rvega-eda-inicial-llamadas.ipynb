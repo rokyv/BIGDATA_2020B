{
 "cells": [
  {
   "cell_type": "markdown",
   "metadata": {},
   "source": [
    "# EDA (Exploratory Data Analysis) llamadas 123 julio 2022\n"
   ]
  },
  {
   "cell_type": "code",
   "execution_count": 3,
   "metadata": {},
   "outputs": [],
   "source": [
    "# importar librerias de manipulacion de datos\n",
    "import numpy as np\n",
    "import pandas as pd\n",
    "# importar librerias del sistema\n",
    "import os\n",
    "from pathlib import Path\n",
    "# libreria para fechas\n",
    "from dateutil.parser import parse\n"
   ]
  },
  {
   "cell_type": "code",
   "execution_count": 4,
   "metadata": {},
   "outputs": [
    {
     "name": "stdout",
     "output_type": "stream",
     "text": [
      "root dir: D:\\ESEIT\\BIGDATA_2020B\n"
     ]
    },
    {
     "data": {
      "text/plain": [
       "WindowsPath('D:/ESEIT/BIGDATA_2020B')"
      ]
     },
     "execution_count": 4,
     "metadata": {},
     "output_type": "execute_result"
    }
   ],
   "source": [
    "# Ruta del proyecto\n",
    "#root_dir = Path(\".\").resolve()\n",
    "root_dir = Path(\".\").resolve().parent\n",
    "print ('root dir:' , root_dir)\n",
    "root_dir    "
   ]
  },
  {
   "cell_type": "code",
   "execution_count": 5,
   "metadata": {},
   "outputs": [
    {
     "name": "stdout",
     "output_type": "stream",
     "text": [
      "D:\\ESEIT\\BIGDATA_2020B\\data\\raw\\llamadas123_julio_2022.csv\n"
     ]
    }
   ],
   "source": [
    "# ruta del proyecto\n",
    "#filename = input(\"Ingrese el nombre de archivo: \")\n",
    "filename = \"llamadas123_julio_2022.csv\"\n",
    "data_dir = \"raw\"\n",
    "file_path = os.path.join(root_dir,\"data\",data_dir, filename)\n",
    "print(file_path)\n",
    "\n"
   ]
  },
  {
   "cell_type": "code",
   "execution_count": 6,
   "metadata": {},
   "outputs": [],
   "source": [
    "# leer archivo\n",
    "data = pd.read_csv(file_path, encoding=\"latin-1\", sep=\";\")\n",
    "# copia de df original\n",
    "new_data = data.copy()\n"
   ]
  },
  {
   "cell_type": "code",
   "execution_count": 7,
   "metadata": {},
   "outputs": [
    {
     "data": {
      "text/html": [
       "<div>\n",
       "<style scoped>\n",
       "    .dataframe tbody tr th:only-of-type {\n",
       "        vertical-align: middle;\n",
       "    }\n",
       "\n",
       "    .dataframe tbody tr th {\n",
       "        vertical-align: top;\n",
       "    }\n",
       "\n",
       "    .dataframe thead th {\n",
       "        text-align: right;\n",
       "    }\n",
       "</style>\n",
       "<table border=\"1\" class=\"dataframe\">\n",
       "  <thead>\n",
       "    <tr style=\"text-align: right;\">\n",
       "      <th></th>\n",
       "      <th>NUMERO_INCIDENTE</th>\n",
       "      <th>FECHA_INICIO_DESPLAZAMIENTO_MOVIL</th>\n",
       "      <th>CODIGO_LOCALIDAD</th>\n",
       "      <th>LOCALIDAD</th>\n",
       "      <th>EDAD</th>\n",
       "      <th>UNIDAD</th>\n",
       "      <th>GENERO</th>\n",
       "      <th>RED</th>\n",
       "      <th>TIPO_INCIDENTE</th>\n",
       "      <th>PRIORIDAD</th>\n",
       "      <th>RECEPCION</th>\n",
       "    </tr>\n",
       "  </thead>\n",
       "  <tbody>\n",
       "    <tr>\n",
       "      <th>0</th>\n",
       "      <td>CRU-00278353-22</td>\n",
       "      <td>2022-07-01 00:08:59</td>\n",
       "      <td>11</td>\n",
       "      <td>Suba</td>\n",
       "      <td>88</td>\n",
       "      <td>A¤os</td>\n",
       "      <td>FEMENINO</td>\n",
       "      <td>Norte</td>\n",
       "      <td>Accidente Cerebro Vascular</td>\n",
       "      <td>ALTA</td>\n",
       "      <td>2022-07-01 03:40:13</td>\n",
       "    </tr>\n",
       "    <tr>\n",
       "      <th>1</th>\n",
       "      <td>CRU-00278360-22</td>\n",
       "      <td>2022-07-01 00:14:58</td>\n",
       "      <td>11</td>\n",
       "      <td>Suba</td>\n",
       "      <td>16</td>\n",
       "      <td>A¤os</td>\n",
       "      <td>MASCULINO</td>\n",
       "      <td>Norte</td>\n",
       "      <td>Herido</td>\n",
       "      <td>ALTA</td>\n",
       "      <td>2022-07-01 03:38:13</td>\n",
       "    </tr>\n",
       "    <tr>\n",
       "      <th>2</th>\n",
       "      <td>CRU-00278365-22</td>\n",
       "      <td>2022-07-01 00:21:59</td>\n",
       "      <td>18</td>\n",
       "      <td>Rafael Uribe Uribe</td>\n",
       "      <td>52</td>\n",
       "      <td>A¤os</td>\n",
       "      <td>FEMENINO</td>\n",
       "      <td>Centro Oriente</td>\n",
       "      <td>Evento Respiratorio</td>\n",
       "      <td>CRITICA</td>\n",
       "      <td>2022-07-01 04:08:24</td>\n",
       "    </tr>\n",
       "    <tr>\n",
       "      <th>3</th>\n",
       "      <td>CRU-00278370-22</td>\n",
       "      <td>2022-07-01 00:38:38</td>\n",
       "      <td>19</td>\n",
       "      <td>Ciudad Bol¡var</td>\n",
       "      <td>SIN_DATO</td>\n",
       "      <td>SIN_DATO</td>\n",
       "      <td>SIN_DATO</td>\n",
       "      <td>Privada</td>\n",
       "      <td>Herido</td>\n",
       "      <td>ALTA</td>\n",
       "      <td>0000-00-00 00:00:00</td>\n",
       "    </tr>\n",
       "    <tr>\n",
       "      <th>4</th>\n",
       "      <td>CRU-00278372-22</td>\n",
       "      <td>2022-07-01 00:53:32</td>\n",
       "      <td>1</td>\n",
       "      <td>Usaqun</td>\n",
       "      <td>33</td>\n",
       "      <td>A¤os</td>\n",
       "      <td>MASCULINO</td>\n",
       "      <td>Norte</td>\n",
       "      <td>Intento de Suicidio</td>\n",
       "      <td>ALTA</td>\n",
       "      <td>2022-07-01 03:25:29</td>\n",
       "    </tr>\n",
       "  </tbody>\n",
       "</table>\n",
       "</div>"
      ],
      "text/plain": [
       "  NUMERO_INCIDENTE FECHA_INICIO_DESPLAZAMIENTO_MOVIL  CODIGO_LOCALIDAD  \\\n",
       "0  CRU-00278353-22               2022-07-01 00:08:59                11   \n",
       "1  CRU-00278360-22               2022-07-01 00:14:58                11   \n",
       "2  CRU-00278365-22               2022-07-01 00:21:59                18   \n",
       "3  CRU-00278370-22               2022-07-01 00:38:38                19   \n",
       "4  CRU-00278372-22               2022-07-01 00:53:32                 1   \n",
       "\n",
       "            LOCALIDAD      EDAD    UNIDAD     GENERO             RED  \\\n",
       "0                Suba        88      A¤os   FEMENINO           Norte   \n",
       "1                Suba        16      A¤os  MASCULINO           Norte   \n",
       "2  Rafael Uribe Uribe        52      A¤os   FEMENINO  Centro Oriente   \n",
       "3      Ciudad Bol¡var  SIN_DATO  SIN_DATO   SIN_DATO         Privada   \n",
       "4             Usaqun        33      A¤os  MASCULINO           Norte   \n",
       "\n",
       "               TIPO_INCIDENTE PRIORIDAD            RECEPCION  \n",
       "0  Accidente Cerebro Vascular      ALTA  2022-07-01 03:40:13  \n",
       "1                      Herido      ALTA  2022-07-01 03:38:13  \n",
       "2         Evento Respiratorio   CRITICA  2022-07-01 04:08:24  \n",
       "3                      Herido      ALTA  0000-00-00 00:00:00  \n",
       "4         Intento de Suicidio      ALTA  2022-07-01 03:25:29  "
      ]
     },
     "execution_count": 7,
     "metadata": {},
     "output_type": "execute_result"
    }
   ],
   "source": [
    "# mostrar primeras filas\n",
    "new_data.head(100)\n",
    "new_data.head()"
   ]
  },
  {
   "cell_type": "code",
   "execution_count": 8,
   "metadata": {},
   "outputs": [
    {
     "data": {
      "text/plain": [
       "(13055, 11)"
      ]
     },
     "execution_count": 8,
     "metadata": {},
     "output_type": "execute_result"
    }
   ],
   "source": [
    "# La estructura de datos es una tupla con dimesiones 13055 filas y 11 columnas)\n",
    "new_data.shape"
   ]
  },
  {
   "cell_type": "code",
   "execution_count": 9,
   "metadata": {},
   "outputs": [
    {
     "name": "stdout",
     "output_type": "stream",
     "text": [
      "<class 'pandas.core.frame.DataFrame'>\n",
      "RangeIndex: 13055 entries, 0 to 13054\n",
      "Data columns (total 11 columns):\n",
      " #   Column                             Non-Null Count  Dtype \n",
      "---  ------                             --------------  ----- \n",
      " 0   NUMERO_INCIDENTE                   13055 non-null  object\n",
      " 1   FECHA_INICIO_DESPLAZAMIENTO_MOVIL  13055 non-null  object\n",
      " 2   CODIGO_LOCALIDAD                   13055 non-null  int64 \n",
      " 3   LOCALIDAD                          13055 non-null  object\n",
      " 4   EDAD                               13055 non-null  object\n",
      " 5   UNIDAD                             13047 non-null  object\n",
      " 6   GENERO                             13055 non-null  object\n",
      " 7   RED                                13055 non-null  object\n",
      " 8   TIPO_INCIDENTE                     13055 non-null  object\n",
      " 9   PRIORIDAD                          13055 non-null  object\n",
      " 10  RECEPCION                          13055 non-null  object\n",
      "dtypes: int64(1), object(10)\n",
      "memory usage: 1.1+ MB\n"
     ]
    }
   ],
   "source": [
    "# ver tipo de datos del df\n",
    "#new_data.dtypes\n",
    "new_data.info()"
   ]
  },
  {
   "cell_type": "code",
   "execution_count": 11,
   "metadata": {},
   "outputs": [
    {
     "data": {
      "text/plain": [
       "array(['FEMENINO', 'MASCULINO', 'SIN_DATO'], dtype=object)"
      ]
     },
     "execution_count": 11,
     "metadata": {},
     "output_type": "execute_result"
    }
   ],
   "source": [
    "# Extraer los valore únicos de las columnas\n",
    "\n",
    "col = \"GENERO\"\n",
    "valores_unicos = new_data[col].unique()\n",
    "valores_unicos"
   ]
  },
  {
   "cell_type": "code",
   "execution_count": 12,
   "metadata": {},
   "outputs": [
    {
     "data": {
      "text/plain": [
       "3"
      ]
     },
     "execution_count": 12,
     "metadata": {},
     "output_type": "execute_result"
    }
   ],
   "source": [
    "# Ontener la longitud de una lista\n",
    "len (valores_unicos)"
   ]
  },
  {
   "cell_type": "code",
   "execution_count": 13,
   "metadata": {},
   "outputs": [
    {
     "name": "stdout",
     "output_type": "stream",
     "text": [
      "NUMERO_INCIDENTE 12015\n",
      "FECHA_INICIO_DESPLAZAMIENTO_MOVIL 12781\n",
      "CODIGO_LOCALIDAD 20\n",
      "LOCALIDAD 20\n",
      "EDAD 100\n",
      "UNIDAD 6\n",
      "GENERO 3\n",
      "RED 5\n",
      "TIPO_INCIDENTE 21\n",
      "PRIORIDAD 4\n",
      "RECEPCION 5235\n"
     ]
    }
   ],
   "source": [
    "# Traer con un ciclo for los valores unicos en cada columna del df\n",
    "\n",
    "for col in new_data.columns:\n",
    "    valores_unicos = new_data[col].unique()\n",
    "    n_valores = len (valores_unicos)\n",
    "    print (col, n_valores)"
   ]
  },
  {
   "cell_type": "code",
   "execution_count": 17,
   "metadata": {},
   "outputs": [],
   "source": [
    "# Crear un diccionario vacío y llenarlo con el numero de calores unicos\n",
    "dict_resumen = dict()\n",
    "\n",
    "for col in new_data.columns:\n",
    "    valores_unicos = new_data[col].unique()\n",
    "    n_valores = len (valores_unicos)\n",
    "    # print (col, n_valores)\n",
    "\n",
    "    dict_resumen[col] = n_valores\n"
   ]
  },
  {
   "cell_type": "code",
   "execution_count": 18,
   "metadata": {},
   "outputs": [
    {
     "data": {
      "text/plain": [
       "{'NUMERO_INCIDENTE': 12015,\n",
       " 'FECHA_INICIO_DESPLAZAMIENTO_MOVIL': 12781,\n",
       " 'CODIGO_LOCALIDAD': 20,\n",
       " 'LOCALIDAD': 20,\n",
       " 'EDAD': 100,\n",
       " 'UNIDAD': 6,\n",
       " 'GENERO': 3,\n",
       " 'RED': 5,\n",
       " 'TIPO_INCIDENTE': 21,\n",
       " 'PRIORIDAD': 4,\n",
       " 'RECEPCION': 5235}"
      ]
     },
     "execution_count": 18,
     "metadata": {},
     "output_type": "execute_result"
    }
   ],
   "source": [
    "# Con un diccionario ya se puede hacer una tabla más bonita. un dataframe\n",
    "dict_resumen"
   ]
  },
  {
   "cell_type": "code",
   "execution_count": 33,
   "metadata": {},
   "outputs": [
    {
     "data": {
      "text/html": [
       "<div>\n",
       "<style scoped>\n",
       "    .dataframe tbody tr th:only-of-type {\n",
       "        vertical-align: middle;\n",
       "    }\n",
       "\n",
       "    .dataframe tbody tr th {\n",
       "        vertical-align: top;\n",
       "    }\n",
       "\n",
       "    .dataframe thead th {\n",
       "        text-align: right;\n",
       "    }\n",
       "</style>\n",
       "<table border=\"1\" class=\"dataframe\">\n",
       "  <thead>\n",
       "    <tr style=\"text-align: right;\">\n",
       "      <th></th>\n",
       "      <th>Count</th>\n",
       "    </tr>\n",
       "  </thead>\n",
       "  <tbody>\n",
       "    <tr>\n",
       "      <th>NUMERO_INCIDENTE</th>\n",
       "      <td>12015</td>\n",
       "    </tr>\n",
       "    <tr>\n",
       "      <th>FECHA_INICIO_DESPLAZAMIENTO_MOVIL</th>\n",
       "      <td>12781</td>\n",
       "    </tr>\n",
       "    <tr>\n",
       "      <th>CODIGO_LOCALIDAD</th>\n",
       "      <td>20</td>\n",
       "    </tr>\n",
       "    <tr>\n",
       "      <th>LOCALIDAD</th>\n",
       "      <td>20</td>\n",
       "    </tr>\n",
       "    <tr>\n",
       "      <th>EDAD</th>\n",
       "      <td>100</td>\n",
       "    </tr>\n",
       "    <tr>\n",
       "      <th>UNIDAD</th>\n",
       "      <td>6</td>\n",
       "    </tr>\n",
       "    <tr>\n",
       "      <th>GENERO</th>\n",
       "      <td>3</td>\n",
       "    </tr>\n",
       "    <tr>\n",
       "      <th>RED</th>\n",
       "      <td>5</td>\n",
       "    </tr>\n",
       "    <tr>\n",
       "      <th>TIPO_INCIDENTE</th>\n",
       "      <td>21</td>\n",
       "    </tr>\n",
       "    <tr>\n",
       "      <th>PRIORIDAD</th>\n",
       "      <td>4</td>\n",
       "    </tr>\n",
       "    <tr>\n",
       "      <th>RECEPCION</th>\n",
       "      <td>5235</td>\n",
       "    </tr>\n",
       "  </tbody>\n",
       "</table>\n",
       "</div>"
      ],
      "text/plain": [
       "                                   Count\n",
       "NUMERO_INCIDENTE                   12015\n",
       "FECHA_INICIO_DESPLAZAMIENTO_MOVIL  12781\n",
       "CODIGO_LOCALIDAD                      20\n",
       "LOCALIDAD                             20\n",
       "EDAD                                 100\n",
       "UNIDAD                                 6\n",
       "GENERO                                 3\n",
       "RED                                    5\n",
       "TIPO_INCIDENTE                        21\n",
       "PRIORIDAD                              4\n",
       "RECEPCION                           5235"
      ]
     },
     "execution_count": 33,
     "metadata": {},
     "output_type": "execute_result"
    }
   ],
   "source": [
    "df_resumen = pd.DataFrame.from_dict(dict_resumen, orient='index')\n",
    "#como la tabla no tiene nombre columnas se le asigna uno\n",
    "df_resumen.rename({0: 'Count'}, axis=1, inplace=True)   # Las columnas se identifican con el axis = 1  . El inplace = True es para que lo cambie dentro de la misma tabla\n",
    "df_resumen"
   ]
  },
  {
   "cell_type": "code",
   "execution_count": 38,
   "metadata": {},
   "outputs": [],
   "source": [
    "# Guardar la tabla:\n",
    "# si lo quisiera automatizar es cambiar el filename para todos los archivos que vayan llegando\n",
    "\n",
    "out_name = 'resumen_'+ filename\n",
    "out_path = os.path.join(root_dir,'data','processed',out_name)\n",
    "# print(out_path)\n",
    "df_resumen.to_csv(out_path)"
   ]
  },
  {
   "cell_type": "code",
   "execution_count": null,
   "metadata": {},
   "outputs": [],
   "source": []
  },
  {
   "cell_type": "code",
   "execution_count": null,
   "metadata": {},
   "outputs": [],
   "source": []
  },
  {
   "cell_type": "code",
   "execution_count": null,
   "metadata": {},
   "outputs": [],
   "source": []
  },
  {
   "cell_type": "code",
   "execution_count": null,
   "metadata": {},
   "outputs": [],
   "source": []
  },
  {
   "cell_type": "code",
   "execution_count": 464,
   "metadata": {},
   "outputs": [
    {
     "data": {
      "text/plain": [
       "Herido                                    3324\n",
       "Inconsciente / Paro cardiorespiratorio    1836\n",
       "Evento Respiratorio                       1703\n",
       "Convulsi¢n                                1177\n",
       "Enfermo                                    828\n",
       "Trastorno Mental                           758\n",
       "Dolor Tor cico                             705\n",
       "Intento de Suicidio                        674\n",
       "Accidente Cerebro Vascular                 391\n",
       "S¡ntomas Gastrointestinales                377\n",
       "Ca¡da de Altura                            312\n",
       "Patolog¡a Ginecobsttrica                  275\n",
       "Intoxicaci¢n                               253\n",
       "Amenaza de Suicidio                        148\n",
       "Acompa¤amiento Evento                       99\n",
       "Violencia Sexual                            69\n",
       "Maltrato                                    38\n",
       "Electrocuci¢n / rescate                     18\n",
       "Sangrado Vaginal                            18\n",
       "Quemaduras                                  12\n",
       "Solicitud de Apoyo                          11\n",
       "Name: TIPO_INCIDENTE, dtype: int64"
      ]
     },
     "execution_count": 464,
     "metadata": {},
     "output_type": "execute_result"
    }
   ],
   "source": [
    "new_data[\"TIPO_INCIDENTE\"].value_counts(dropna=False)"
   ]
  },
  {
   "cell_type": "code",
   "execution_count": 448,
   "metadata": {},
   "outputs": [
    {
     "data": {
      "text/plain": [
       "0                      Suba\n",
       "1                      Suba\n",
       "2        Rafael Uribe Uribe\n",
       "3            Ciudad Bol¡var\n",
       "4                   Usaqun\n",
       "                ...        \n",
       "13021          Los M rtires\n",
       "13022          Los M rtires\n",
       "13023              Engativ \n",
       "13024              Engativ \n",
       "13025              Fontib¢n\n",
       "Name: LOCALIDAD, Length: 13026, dtype: object"
      ]
     },
     "execution_count": 448,
     "metadata": {},
     "output_type": "execute_result"
    }
   ],
   "source": [
    "# valores por columna\n",
    "new_data[\"TIPO_INCIDENTE\"]"
   ]
  },
  {
   "cell_type": "code",
   "execution_count": 430,
   "metadata": {},
   "outputs": [
    {
     "name": "stdout",
     "output_type": "stream",
     "text": [
      "filas y columnas (13055, 11)\n",
      "filas y columnas sin duplicados (13026, 11)\n"
     ]
    }
   ],
   "source": [
    "# Eliminar los registros duplicados, dejando solo el primer registro\n",
    "print(\"filas y columnas\", new_data.shape)\n",
    "new_data = new_data.drop_duplicates()\n",
    "print(\"filas y columnas sin duplicados\", new_data.shape) \n",
    "# resetear indices de la tabla\n",
    "new_data = new_data.reset_index(drop=True) "
   ]
  },
  {
   "cell_type": "code",
   "execution_count": 1,
   "metadata": {},
   "outputs": [
    {
     "name": "stdout",
     "output_type": "stream",
     "text": [
      "<function str_to_datetime at 0x000002257F748790>\n"
     ]
    }
   ],
   "source": [
    "def str_to_datetime(value_str):\n",
    "    try:\n",
    "        var_datetime2 = parse(value_str, dayfirst=False)\n",
    "        var_datetime = pd.to_datetime(var_datetime2)\n",
    "    except Exception as e:\n",
    "        #print(value_str, e)\n",
    "        var_datetime = np.nan\n",
    "    return var_datetime\n",
    "    \n",
    "    \n",
    "\n",
    "    \n",
    "        "
   ]
  },
  {
   "cell_type": "code",
   "execution_count": null,
   "metadata": {},
   "outputs": [],
   "source": []
  },
  {
   "cell_type": "code",
   "execution_count": 1,
   "metadata": {},
   "outputs": [
    {
     "ename": "NameError",
     "evalue": "name 'new_data' is not defined",
     "output_type": "error",
     "traceback": [
      "\u001b[1;31m---------------------------------------------------------------------------\u001b[0m",
      "\u001b[1;31mNameError\u001b[0m                                 Traceback (most recent call last)",
      "\u001b[1;32md:\\ESEIT\\BIGDATA_2020B\\notebooks\\0.1.rvega-eda-inicial-llamadas.ipynb Celda 18\u001b[0m in \u001b[0;36m<cell line: 3>\u001b[1;34m()\u001b[0m\n\u001b[0;32m      <a href='vscode-notebook-cell:/d%3A/ESEIT/BIGDATA_2020B/notebooks/0.1.rvega-eda-inicial-llamadas.ipynb#X23sZmlsZQ%3D%3D?line=0'>1</a>\u001b[0m \u001b[39m# iterar por cada registro para convertir a datetime Campo FECHA_INICIO_DESPLAZAMIENTO_MOVIL\u001b[39;00m\n\u001b[1;32m----> <a href='vscode-notebook-cell:/d%3A/ESEIT/BIGDATA_2020B/notebooks/0.1.rvega-eda-inicial-llamadas.ipynb#X23sZmlsZQ%3D%3D?line=2'>3</a>\u001b[0m fecha_ini_despl_movil \u001b[39m=\u001b[39m new_data[\u001b[39m\"\u001b[39m\u001b[39mFECHA_INICIO_DESPLAZAMIENTO_MOVIL\u001b[39m\u001b[39m\"\u001b[39m]\n\u001b[0;32m      <a href='vscode-notebook-cell:/d%3A/ESEIT/BIGDATA_2020B/notebooks/0.1.rvega-eda-inicial-llamadas.ipynb#X23sZmlsZQ%3D%3D?line=3'>4</a>\u001b[0m list_fecha_ini_despl_movil \u001b[39m=\u001b[39m \u001b[39mlist\u001b[39m()\n\u001b[0;32m      <a href='vscode-notebook-cell:/d%3A/ESEIT/BIGDATA_2020B/notebooks/0.1.rvega-eda-inicial-llamadas.ipynb#X23sZmlsZQ%3D%3D?line=5'>6</a>\u001b[0m \u001b[39mfor\u001b[39;00m i \u001b[39min\u001b[39;00m \u001b[39mrange\u001b[39m(\u001b[39m0\u001b[39m,\u001b[39mlen\u001b[39m(fecha_ini_despl_movil)):\n",
      "\u001b[1;31mNameError\u001b[0m: name 'new_data' is not defined"
     ]
    }
   ],
   "source": [
    "# iterar por cada registro para convertir a datetime Campo FECHA_INICIO_DESPLAZAMIENTO_MOVIL\n",
    "\n",
    "fecha_ini_despl_movil = new_data[\"FECHA_INICIO_DESPLAZAMIENTO_MOVIL\"]\n",
    "list_fecha_ini_despl_movil = list()\n",
    "\n",
    "for i in range(0,len(fecha_ini_despl_movil)):\n",
    "    result_ini_despl_movil = str_to_datetime(fecha_ini_despl_movil[i])\n",
    "    list_fecha_ini_despl_movil.append(result_ini_despl_movil)\n",
    "    \n",
    "new_data[\"FECHA_INICIO_DESPLAZAMIENTO_MOVIL\"] = list_fecha_ini_despl_movil\n",
    "new_data[\"FECHA_INICIO_DESPLAZAMIENTO_MOVIL\"]\n"
   ]
  },
  {
   "cell_type": "code",
   "execution_count": 3,
   "metadata": {},
   "outputs": [
    {
     "ename": "NameError",
     "evalue": "name 'new_data' is not defined",
     "output_type": "error",
     "traceback": [
      "\u001b[1;31m---------------------------------------------------------------------------\u001b[0m",
      "\u001b[1;31mNameError\u001b[0m                                 Traceback (most recent call last)",
      "\u001b[1;32md:\\ESEIT\\BIGDATA_2020B\\notebooks\\0.1.rvega-eda-inicial-llamadas.ipynb Celda 18\u001b[0m in \u001b[0;36m<cell line: 3>\u001b[1;34m()\u001b[0m\n\u001b[0;32m      <a href='vscode-notebook-cell:/d%3A/ESEIT/BIGDATA_2020B/notebooks/0.1.rvega-eda-inicial-llamadas.ipynb#X23sZmlsZQ%3D%3D?line=0'>1</a>\u001b[0m \u001b[39m# iterar por cada registro para convertir a datetime Campo RECEPCION\u001b[39;00m\n\u001b[1;32m----> <a href='vscode-notebook-cell:/d%3A/ESEIT/BIGDATA_2020B/notebooks/0.1.rvega-eda-inicial-llamadas.ipynb#X23sZmlsZQ%3D%3D?line=2'>3</a>\u001b[0m fecha_recepcion \u001b[39m=\u001b[39m new_data[\u001b[39m\"\u001b[39m\u001b[39mRECEPCION\u001b[39m\u001b[39m\"\u001b[39m]\n\u001b[0;32m      <a href='vscode-notebook-cell:/d%3A/ESEIT/BIGDATA_2020B/notebooks/0.1.rvega-eda-inicial-llamadas.ipynb#X23sZmlsZQ%3D%3D?line=3'>4</a>\u001b[0m list_fecha_recepcion \u001b[39m=\u001b[39m \u001b[39mlist\u001b[39m()\n\u001b[0;32m      <a href='vscode-notebook-cell:/d%3A/ESEIT/BIGDATA_2020B/notebooks/0.1.rvega-eda-inicial-llamadas.ipynb#X23sZmlsZQ%3D%3D?line=5'>6</a>\u001b[0m \u001b[39mfor\u001b[39;00m i \u001b[39min\u001b[39;00m \u001b[39mrange\u001b[39m(\u001b[39m0\u001b[39m,\u001b[39mlen\u001b[39m(fecha_recepcion)):\n",
      "\u001b[1;31mNameError\u001b[0m: name 'new_data' is not defined"
     ]
    }
   ],
   "source": [
    "# iterar por cada registro para convertir a datetime Campo RECEPCION\n",
    "\n",
    "fecha_recepcion = new_data[\"RECEPCION\"]\n",
    "list_fecha_recepcion = list()\n",
    "\n",
    "for i in range(0,len(fecha_recepcion)):\n",
    "    result_fecha_recepcion = str_to_datetime(fecha_recepcion[i])\n",
    "    list_fecha_recepcion.append(result_fecha_recepcion)\n",
    "    \n",
    "\n",
    "new_data[\"RECEPCION\"] = list_fecha_recepcion\n",
    "new_data[\"RECEPCION\"]"
   ]
  },
  {
   "cell_type": "code",
   "execution_count": 435,
   "metadata": {},
   "outputs": [
    {
     "data": {
      "text/plain": [
       "0        88\n",
       "1        16\n",
       "2        52\n",
       "3         0\n",
       "4        33\n",
       "         ..\n",
       "13021    18\n",
       "13022     0\n",
       "13023    11\n",
       "13024    19\n",
       "13025     0\n",
       "Name: EDAD, Length: 13026, dtype: int64"
      ]
     },
     "execution_count": 435,
     "metadata": {},
     "output_type": "execute_result"
    }
   ],
   "source": [
    "\n",
    "# remplazar valor SIN_DATA a 0\n",
    "new_data[\"EDAD\"]  = new_data[\"EDAD\"].replace({\"SIN_DATO\": 0})\n",
    "# convertir columna a int64\n",
    "new_data = new_data.astype({\"EDAD\":'int64'},errors = 'ignore') \n",
    "# ver columna\n",
    "new_data[\"EDAD\"] "
   ]
  },
  {
   "cell_type": "code",
   "execution_count": 436,
   "metadata": {},
   "outputs": [
    {
     "data": {
      "text/plain": [
       "A¤os     6781\n",
       "NaN      6195\n",
       "Meses      39\n",
       "Horas       6\n",
       "Dias        5\n",
       "Name: UNIDAD, dtype: int64"
      ]
     },
     "execution_count": 436,
     "metadata": {},
     "output_type": "execute_result"
    }
   ],
   "source": [
    "# remplazar valor SIN_DATA a Null\n",
    "new_data[\"GENERO\"]  = new_data[\"GENERO\"].replace({\"SIN_DATO\": np.nan}) \n",
    "new_data[\"UNIDAD\"]  = new_data[\"UNIDAD\"].replace({\"SIN_DATO\": np.nan}) \n",
    "\n",
    "\n",
    "new_data[\"UNIDAD\"].value_counts(dropna=False)"
   ]
  },
  {
   "cell_type": "code",
   "execution_count": 482,
   "metadata": {},
   "outputs": [
    {
     "data": {
      "text/plain": [
       "Kennedy               1740\n",
       "Suba                  1323\n",
       "Engativá              1304\n",
       "Bosa                  1065\n",
       "Ciudad Bolívar        1009\n",
       "Puente Aranda          742\n",
       "Fontibón               670\n",
       "Usaquén                667\n",
       "Rafael Uribe Uribe     601\n",
       "Usme                   597\n",
       "San Cristóbal          595\n",
       "Chapinero              507\n",
       "Tunjuelito             391\n",
       "Barrios Unidos         389\n",
       "Los Mártires           379\n",
       "Teusaquillo            361\n",
       "Santa Fe               356\n",
       "Antonio Nariño         244\n",
       "La Candelaria           85\n",
       "Sumapaz                  1\n",
       "Name: LOCALIDAD, dtype: int64"
      ]
     },
     "execution_count": 482,
     "metadata": {},
     "output_type": "execute_result"
    }
   ],
   "source": [
    "# Remplazar Caracter especial por palabra\n",
    "new_data[\"UNIDAD\"]  = new_data[\"UNIDAD\"].replace({\"A¤os\": \"Años\"}) \n",
    "new_data[\"TIPO_INCIDENTE\"]  = new_data[\"TIPO_INCIDENTE\"].replace({\"Convulsi¢n\": \"Convulsión\",\"Dolor Tor cico\": \"Dolor Torácico\",\"S¡ntomas Gastrointestinales\": \"Sintomas Gastrointestinales\",\"Ca¡da de Altura\": \"Caida de Altura\",\"Patolog¡a Ginecobsttrica\": \"Patologia Gineco Obstétrica\",\"Intoxicaci¢n\": \"Intoxicación\",\"Acompa¤amiento Evento\": \"Acompañamiento Evento\",\"Electrocuci¢n / rescate\": \"Electrocución / rescate\"}) \n",
    "new_data[\"LOCALIDAD\"]  = new_data[\"LOCALIDAD\"].replace({\"Engativ \": \"Engativá\",\"Ciudad Bol¡var\": \"Ciudad Bolívar\",\"Fontib¢n\": \"Fontibón\",\"Usaqun\": \"Usaquén\",\"San Crist¢bal\": \"San Cristóbal\",\"Los M rtires\": \"Los Mártires\",\"Antonio Nari¤o\": \"Antonio Nariño\"}) \n",
    "new_data[\"LOCALIDAD\"].value_counts()\n"
   ]
  }
 ],
 "metadata": {
  "kernelspec": {
   "display_name": "Python 3.9.12 ('base')",
   "language": "python",
   "name": "python3"
  },
  "language_info": {
   "codemirror_mode": {
    "name": "ipython",
    "version": 3
   },
   "file_extension": ".py",
   "mimetype": "text/x-python",
   "name": "python",
   "nbconvert_exporter": "python",
   "pygments_lexer": "ipython3",
   "version": "3.9.12"
  },
  "orig_nbformat": 4,
  "vscode": {
   "interpreter": {
    "hash": "5eba2f6daac758e0c4eb74cbbf3fd787eaf14bd08a71327f2f2275e3d00aa03b"
   }
  }
 },
 "nbformat": 4,
 "nbformat_minor": 2
}
