{
 "cells": [
  {
   "cell_type": "markdown",
   "metadata": {},
   "source": [
    "## Funciones en Python"
   ]
  },
  {
   "cell_type": "code",
   "execution_count": 1,
   "metadata": {},
   "outputs": [],
   "source": [
    "# funcion f(x,y,z) = x + y + z\n",
    "\n",
    "def f(x,y,z):\n",
    "    resultado = x + y + z\n",
    "\n",
    "    return resultado\n",
    "\n",
    "    "
   ]
  },
  {
   "cell_type": "code",
   "execution_count": 3,
   "metadata": {},
   "outputs": [
    {
     "data": {
      "text/plain": [
       "6"
      ]
     },
     "execution_count": 3,
     "metadata": {},
     "output_type": "execute_result"
    }
   ],
   "source": [
    "# f(x=5,y=3,x=-2)\n",
    "f(5,3,-2)"
   ]
  },
  {
   "cell_type": "markdown",
   "metadata": {},
   "source": [
    "## Pseudicódigo\n"
   ]
  },
  {
   "cell_type": "markdown",
   "metadata": {},
   "source": []
  },
  {
   "cell_type": "markdown",
   "metadata": {},
   "source": [
    "* pipeline\n",
    "\n",
    "LLAMADAXXX.CSV --> read_data --> get_summary --> save_data --> resumen_llamadasXXX.csv"
   ]
  },
  {
   "cell_type": "markdown",
   "metadata": {},
   "source": [
    "PSEUDO CODIGO\n",
    "def main():\n",
    "    get_data()\n",
    "    get_summary()\n",
    "    sabe_data()\n"
   ]
  },
  {
   "cell_type": "markdown",
   "metadata": {},
   "source": [
    "## MAS DE FUNCIONES"
   ]
  },
  {
   "cell_type": "code",
   "execution_count": null,
   "metadata": {},
   "outputs": [],
   "source": [
    "# Quiero una función que me calcule:\n",
    "# 1. La suma de todos los valores de una lista\n",
    "# 2. Mínimo valor de la lista\n",
    "# 3. Máximo valor de la lista\n",
    "# 4. La media y desviación estandar"
   ]
  },
  {
   "cell_type": "code",
   "execution_count": 20,
   "metadata": {},
   "outputs": [],
   "source": [
    "\n",
    "import pstats\n",
    "import numpy as np\n",
    "\n",
    "\n",
    "def calcular_min_max(lista_numeros, verbose= True):\n",
    "    \"\"\"\n",
    "    Retorna los valores mínimo y máximo de una lista de numeros\n",
    "    Args:\n",
    "        lista_numeros: type list\n",
    "\n",
    "    \"\"\"\n",
    "    min_value = min(lista_numeros)\n",
    "    max_value = max(lista_numeros)\n",
    "\n",
    "    if verbose == True:\n",
    "        print(\"Valor Mínimo\", min_value)\n",
    "        print(\"Valor Máximo\", max_value)\n",
    "    else:\n",
    "        pass\n",
    "    return min_value, max_value\n",
    "\n",
    "def calcular_valores_centrales(lista_numeros, verbose= True):\n",
    "    \"\"\"Calcula la media y la desviación estandar de una lista de números\n",
    "\n",
    "    Args:\n",
    "        lista_numeros (list): Lista con valore numéricos\n",
    "        verbose (bool, optional): para decidir si imprimir mensajes en pantalla.\n",
    "\n",
    "    Returns:\n",
    "        tuple: (media, dev_std)\n",
    "    \"\"\"\n",
    "\n",
    "\n",
    "    media = np.mean (lista_numeros)\n",
    "    dev_std = np.std(lista_numeros)\n",
    "\n",
    "    if verbose == True:\n",
    "        print(\"Media\", media)\n",
    "        print(\"Desviación Estandar\", dev_std)\n",
    "    else:\n",
    "        pass\n",
    "\n",
    "    return media, dev_std\n",
    "\n",
    "def calcular_valores(lista_numeros, verbose = True):\n",
    "    \"\"\"Returna una tupla con valoes suma, Mínimo, Máximo, media y desviación estandar de una lista de números \n",
    "\n",
    "    Args:\n",
    "        lista_numeros (list): Lista con valore numéricos\n",
    "        verbose (bool, optional): para decidir si imprimir mensajes en pantalla.\n",
    "\n",
    "    Returns:\n",
    "        tuple: (suma, min, max, media, dev_std)\n",
    "    \"\"\"\n",
    "\n",
    "    suma = np.sum(lista_numeros)\n",
    "    min_val, max_val = calcular_min_max(lista_numeros, verbose)\n",
    "    media, dev_std = calcular_valores_centrales(lista_numeros)\n",
    "\n",
    "    return suma, min_val, max_val, media, dev_std\n"
   ]
  },
  {
   "cell_type": "code",
   "execution_count": 21,
   "metadata": {},
   "outputs": [
    {
     "name": "stdout",
     "output_type": "stream",
     "text": [
      "Valor Mínimo 4\n",
      "Valor Máximo 21\n",
      "Media 9.4\n",
      "Desviación Estandar 6.086049621881176\n"
     ]
    },
    {
     "data": {
      "text/plain": [
       "(47, 4, 21, 9.4, 6.086049621881176)"
      ]
     },
     "execution_count": 21,
     "metadata": {},
     "output_type": "execute_result"
    }
   ],
   "source": [
    "lista_valores = [5, 4, 8, 9, 21]\n",
    "calcular_valores(lista_numeros = lista_valores, verbose=True)"
   ]
  }
 ],
 "metadata": {
  "kernelspec": {
   "display_name": "Python 3.10.8 64-bit (microsoft store)",
   "language": "python",
   "name": "python3"
  },
  "language_info": {
   "codemirror_mode": {
    "name": "ipython",
    "version": 3
   },
   "file_extension": ".py",
   "mimetype": "text/x-python",
   "name": "python",
   "nbconvert_exporter": "python",
   "pygments_lexer": "ipython3",
   "version": "3.10.8"
  },
  "orig_nbformat": 4,
  "vscode": {
   "interpreter": {
    "hash": "3282607f385ea6f15702157e2a823b97e47a25ad58852c02230532c044fb265d"
   }
  }
 },
 "nbformat": 4,
 "nbformat_minor": 2
}
